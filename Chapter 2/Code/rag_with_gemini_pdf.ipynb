{
 "cells": [
  {
   "cell_type": "markdown",
   "metadata": {},
   "source": [
    "## What is [Langchain](https://python.langchain.com/v0.1/docs/get_started/introduction/)?\n",
    "LangChain is an open-source framework for building applications using large language models (LLMs). \n",
    "LangChain simplifies the process of building LLM-driven applications like chatbots and virtual agents. It offers features for:\n",
    "* Real-time data processing\n",
    "* Integration with LLMs\n",
    "* Chatbot interactions\n",
    "* Synthetic data generation\n",
    "* Document analysis and summarization\n",
    "* Code analysis"
   ]
  },
  {
   "cell_type": "code",
   "execution_count": 1,
   "metadata": {},
   "outputs": [
    {
     "name": "stdout",
     "output_type": "stream",
     "text": [
      "Requirement already satisfied: langchain-google-genai in /Users/bhavishyapandit/VSCProjects/security_for_llms/venv/lib/python3.11/site-packages (1.0.2)\n",
      "Requirement already satisfied: google-generativeai<0.6.0,>=0.5.0 in /Users/bhavishyapandit/VSCProjects/security_for_llms/venv/lib/python3.11/site-packages (from langchain-google-genai) (0.5.2)\n",
      "Requirement already satisfied: langchain-core<0.2,>=0.1.27 in /Users/bhavishyapandit/VSCProjects/security_for_llms/venv/lib/python3.11/site-packages (from langchain-google-genai) (0.1.46)\n",
      "Requirement already satisfied: google-ai-generativelanguage==0.6.2 in /Users/bhavishyapandit/VSCProjects/security_for_llms/venv/lib/python3.11/site-packages (from google-generativeai<0.6.0,>=0.5.0->langchain-google-genai) (0.6.2)\n",
      "Requirement already satisfied: google-api-core in /Users/bhavishyapandit/VSCProjects/security_for_llms/venv/lib/python3.11/site-packages (from google-generativeai<0.6.0,>=0.5.0->langchain-google-genai) (2.18.0)\n",
      "Requirement already satisfied: google-api-python-client in /Users/bhavishyapandit/VSCProjects/security_for_llms/venv/lib/python3.11/site-packages (from google-generativeai<0.6.0,>=0.5.0->langchain-google-genai) (2.127.0)\n",
      "Requirement already satisfied: google-auth>=2.15.0 in /Users/bhavishyapandit/VSCProjects/security_for_llms/venv/lib/python3.11/site-packages (from google-generativeai<0.6.0,>=0.5.0->langchain-google-genai) (2.29.0)\n",
      "Requirement already satisfied: protobuf in /Users/bhavishyapandit/VSCProjects/security_for_llms/venv/lib/python3.11/site-packages (from google-generativeai<0.6.0,>=0.5.0->langchain-google-genai) (4.25.3)\n",
      "Requirement already satisfied: pydantic in /Users/bhavishyapandit/VSCProjects/security_for_llms/venv/lib/python3.11/site-packages (from google-generativeai<0.6.0,>=0.5.0->langchain-google-genai) (2.7.1)\n",
      "Requirement already satisfied: tqdm in /Users/bhavishyapandit/VSCProjects/security_for_llms/venv/lib/python3.11/site-packages (from google-generativeai<0.6.0,>=0.5.0->langchain-google-genai) (4.66.2)\n",
      "Requirement already satisfied: typing-extensions in /Users/bhavishyapandit/VSCProjects/security_for_llms/venv/lib/python3.11/site-packages (from google-generativeai<0.6.0,>=0.5.0->langchain-google-genai) (4.11.0)\n",
      "Requirement already satisfied: proto-plus<2.0.0dev,>=1.22.3 in /Users/bhavishyapandit/VSCProjects/security_for_llms/venv/lib/python3.11/site-packages (from google-ai-generativelanguage==0.6.2->google-generativeai<0.6.0,>=0.5.0->langchain-google-genai) (1.23.0)\n",
      "Requirement already satisfied: PyYAML>=5.3 in /Users/bhavishyapandit/VSCProjects/security_for_llms/venv/lib/python3.11/site-packages (from langchain-core<0.2,>=0.1.27->langchain-google-genai) (6.0.1)\n",
      "Requirement already satisfied: jsonpatch<2.0,>=1.33 in /Users/bhavishyapandit/VSCProjects/security_for_llms/venv/lib/python3.11/site-packages (from langchain-core<0.2,>=0.1.27->langchain-google-genai) (1.33)\n",
      "Requirement already satisfied: langsmith<0.2.0,>=0.1.0 in /Users/bhavishyapandit/VSCProjects/security_for_llms/venv/lib/python3.11/site-packages (from langchain-core<0.2,>=0.1.27->langchain-google-genai) (0.1.51)\n",
      "Requirement already satisfied: packaging<24.0,>=23.2 in /Users/bhavishyapandit/VSCProjects/security_for_llms/venv/lib/python3.11/site-packages (from langchain-core<0.2,>=0.1.27->langchain-google-genai) (23.2)\n",
      "Requirement already satisfied: tenacity<9.0.0,>=8.1.0 in /Users/bhavishyapandit/VSCProjects/security_for_llms/venv/lib/python3.11/site-packages (from langchain-core<0.2,>=0.1.27->langchain-google-genai) (8.2.3)\n",
      "Requirement already satisfied: cachetools<6.0,>=2.0.0 in /Users/bhavishyapandit/VSCProjects/security_for_llms/venv/lib/python3.11/site-packages (from google-auth>=2.15.0->google-generativeai<0.6.0,>=0.5.0->langchain-google-genai) (5.3.3)\n",
      "Requirement already satisfied: pyasn1-modules>=0.2.1 in /Users/bhavishyapandit/VSCProjects/security_for_llms/venv/lib/python3.11/site-packages (from google-auth>=2.15.0->google-generativeai<0.6.0,>=0.5.0->langchain-google-genai) (0.4.0)\n",
      "Requirement already satisfied: rsa<5,>=3.1.4 in /Users/bhavishyapandit/VSCProjects/security_for_llms/venv/lib/python3.11/site-packages (from google-auth>=2.15.0->google-generativeai<0.6.0,>=0.5.0->langchain-google-genai) (4.9)\n",
      "Requirement already satisfied: jsonpointer>=1.9 in /Users/bhavishyapandit/VSCProjects/security_for_llms/venv/lib/python3.11/site-packages (from jsonpatch<2.0,>=1.33->langchain-core<0.2,>=0.1.27->langchain-google-genai) (2.4)\n",
      "Requirement already satisfied: orjson<4.0.0,>=3.9.14 in /Users/bhavishyapandit/VSCProjects/security_for_llms/venv/lib/python3.11/site-packages (from langsmith<0.2.0,>=0.1.0->langchain-core<0.2,>=0.1.27->langchain-google-genai) (3.10.1)\n",
      "Requirement already satisfied: requests<3,>=2 in /Users/bhavishyapandit/VSCProjects/security_for_llms/venv/lib/python3.11/site-packages (from langsmith<0.2.0,>=0.1.0->langchain-core<0.2,>=0.1.27->langchain-google-genai) (2.31.0)\n",
      "Requirement already satisfied: annotated-types>=0.4.0 in /Users/bhavishyapandit/VSCProjects/security_for_llms/venv/lib/python3.11/site-packages (from pydantic->google-generativeai<0.6.0,>=0.5.0->langchain-google-genai) (0.6.0)\n",
      "Requirement already satisfied: pydantic-core==2.18.2 in /Users/bhavishyapandit/VSCProjects/security_for_llms/venv/lib/python3.11/site-packages (from pydantic->google-generativeai<0.6.0,>=0.5.0->langchain-google-genai) (2.18.2)\n",
      "Requirement already satisfied: googleapis-common-protos<2.0.dev0,>=1.56.2 in /Users/bhavishyapandit/VSCProjects/security_for_llms/venv/lib/python3.11/site-packages (from google-api-core->google-generativeai<0.6.0,>=0.5.0->langchain-google-genai) (1.63.0)\n",
      "Requirement already satisfied: httplib2<1.dev0,>=0.19.0 in /Users/bhavishyapandit/VSCProjects/security_for_llms/venv/lib/python3.11/site-packages (from google-api-python-client->google-generativeai<0.6.0,>=0.5.0->langchain-google-genai) (0.22.0)\n",
      "Requirement already satisfied: google-auth-httplib2<1.0.0,>=0.2.0 in /Users/bhavishyapandit/VSCProjects/security_for_llms/venv/lib/python3.11/site-packages (from google-api-python-client->google-generativeai<0.6.0,>=0.5.0->langchain-google-genai) (0.2.0)\n",
      "Requirement already satisfied: uritemplate<5,>=3.0.1 in /Users/bhavishyapandit/VSCProjects/security_for_llms/venv/lib/python3.11/site-packages (from google-api-python-client->google-generativeai<0.6.0,>=0.5.0->langchain-google-genai) (4.1.1)\n",
      "Requirement already satisfied: grpcio<2.0dev,>=1.33.2 in /Users/bhavishyapandit/VSCProjects/security_for_llms/venv/lib/python3.11/site-packages (from google-api-core->google-generativeai<0.6.0,>=0.5.0->langchain-google-genai) (1.62.2)\n",
      "Requirement already satisfied: grpcio-status<2.0.dev0,>=1.33.2 in /Users/bhavishyapandit/VSCProjects/security_for_llms/venv/lib/python3.11/site-packages (from google-api-core->google-generativeai<0.6.0,>=0.5.0->langchain-google-genai) (1.62.2)\n",
      "Requirement already satisfied: pyparsing!=3.0.0,!=3.0.1,!=3.0.2,!=3.0.3,<4,>=2.4.2 in /Users/bhavishyapandit/VSCProjects/security_for_llms/venv/lib/python3.11/site-packages (from httplib2<1.dev0,>=0.19.0->google-api-python-client->google-generativeai<0.6.0,>=0.5.0->langchain-google-genai) (3.1.2)\n",
      "Requirement already satisfied: pyasn1<0.7.0,>=0.4.6 in /Users/bhavishyapandit/VSCProjects/security_for_llms/venv/lib/python3.11/site-packages (from pyasn1-modules>=0.2.1->google-auth>=2.15.0->google-generativeai<0.6.0,>=0.5.0->langchain-google-genai) (0.6.0)\n",
      "Requirement already satisfied: charset-normalizer<4,>=2 in /Users/bhavishyapandit/VSCProjects/security_for_llms/venv/lib/python3.11/site-packages (from requests<3,>=2->langsmith<0.2.0,>=0.1.0->langchain-core<0.2,>=0.1.27->langchain-google-genai) (3.3.2)\n",
      "Requirement already satisfied: idna<4,>=2.5 in /Users/bhavishyapandit/VSCProjects/security_for_llms/venv/lib/python3.11/site-packages (from requests<3,>=2->langsmith<0.2.0,>=0.1.0->langchain-core<0.2,>=0.1.27->langchain-google-genai) (3.7)\n",
      "Requirement already satisfied: urllib3<3,>=1.21.1 in /Users/bhavishyapandit/VSCProjects/security_for_llms/venv/lib/python3.11/site-packages (from requests<3,>=2->langsmith<0.2.0,>=0.1.0->langchain-core<0.2,>=0.1.27->langchain-google-genai) (2.2.1)\n",
      "Requirement already satisfied: certifi>=2017.4.17 in /Users/bhavishyapandit/VSCProjects/security_for_llms/venv/lib/python3.11/site-packages (from requests<3,>=2->langsmith<0.2.0,>=0.1.0->langchain-core<0.2,>=0.1.27->langchain-google-genai) (2024.2.2)\n",
      "\n",
      "\u001b[1m[\u001b[0m\u001b[34;49mnotice\u001b[0m\u001b[1;39;49m]\u001b[0m\u001b[39;49m A new release of pip is available: \u001b[0m\u001b[31;49m23.2.1\u001b[0m\u001b[39;49m -> \u001b[0m\u001b[32;49m24.0\u001b[0m\n",
      "\u001b[1m[\u001b[0m\u001b[34;49mnotice\u001b[0m\u001b[1;39;49m]\u001b[0m\u001b[39;49m To update, run: \u001b[0m\u001b[32;49mpip install --upgrade pip\u001b[0m\n",
      "Requirement already satisfied: langchain in /Users/bhavishyapandit/VSCProjects/security_for_llms/venv/lib/python3.11/site-packages (0.1.16)\n",
      "Requirement already satisfied: PyYAML>=5.3 in /Users/bhavishyapandit/VSCProjects/security_for_llms/venv/lib/python3.11/site-packages (from langchain) (6.0.1)\n",
      "Requirement already satisfied: SQLAlchemy<3,>=1.4 in /Users/bhavishyapandit/VSCProjects/security_for_llms/venv/lib/python3.11/site-packages (from langchain) (2.0.29)\n",
      "Requirement already satisfied: aiohttp<4.0.0,>=3.8.3 in /Users/bhavishyapandit/VSCProjects/security_for_llms/venv/lib/python3.11/site-packages (from langchain) (3.9.5)\n",
      "Requirement already satisfied: dataclasses-json<0.7,>=0.5.7 in /Users/bhavishyapandit/VSCProjects/security_for_llms/venv/lib/python3.11/site-packages (from langchain) (0.6.4)\n",
      "Requirement already satisfied: jsonpatch<2.0,>=1.33 in /Users/bhavishyapandit/VSCProjects/security_for_llms/venv/lib/python3.11/site-packages (from langchain) (1.33)\n",
      "Requirement already satisfied: langchain-community<0.1,>=0.0.32 in /Users/bhavishyapandit/VSCProjects/security_for_llms/venv/lib/python3.11/site-packages (from langchain) (0.0.34)\n",
      "Requirement already satisfied: langchain-core<0.2.0,>=0.1.42 in /Users/bhavishyapandit/VSCProjects/security_for_llms/venv/lib/python3.11/site-packages (from langchain) (0.1.46)\n",
      "Requirement already satisfied: langchain-text-splitters<0.1,>=0.0.1 in /Users/bhavishyapandit/VSCProjects/security_for_llms/venv/lib/python3.11/site-packages (from langchain) (0.0.1)\n",
      "Requirement already satisfied: langsmith<0.2.0,>=0.1.17 in /Users/bhavishyapandit/VSCProjects/security_for_llms/venv/lib/python3.11/site-packages (from langchain) (0.1.51)\n",
      "Requirement already satisfied: numpy<2,>=1 in /Users/bhavishyapandit/VSCProjects/security_for_llms/venv/lib/python3.11/site-packages (from langchain) (1.26.4)\n",
      "Requirement already satisfied: pydantic<3,>=1 in /Users/bhavishyapandit/VSCProjects/security_for_llms/venv/lib/python3.11/site-packages (from langchain) (2.7.1)\n",
      "Requirement already satisfied: requests<3,>=2 in /Users/bhavishyapandit/VSCProjects/security_for_llms/venv/lib/python3.11/site-packages (from langchain) (2.31.0)\n",
      "Requirement already satisfied: tenacity<9.0.0,>=8.1.0 in /Users/bhavishyapandit/VSCProjects/security_for_llms/venv/lib/python3.11/site-packages (from langchain) (8.2.3)\n",
      "Requirement already satisfied: aiosignal>=1.1.2 in /Users/bhavishyapandit/VSCProjects/security_for_llms/venv/lib/python3.11/site-packages (from aiohttp<4.0.0,>=3.8.3->langchain) (1.3.1)\n",
      "Requirement already satisfied: attrs>=17.3.0 in /Users/bhavishyapandit/VSCProjects/security_for_llms/venv/lib/python3.11/site-packages (from aiohttp<4.0.0,>=3.8.3->langchain) (23.2.0)\n",
      "Requirement already satisfied: frozenlist>=1.1.1 in /Users/bhavishyapandit/VSCProjects/security_for_llms/venv/lib/python3.11/site-packages (from aiohttp<4.0.0,>=3.8.3->langchain) (1.4.1)\n",
      "Requirement already satisfied: multidict<7.0,>=4.5 in /Users/bhavishyapandit/VSCProjects/security_for_llms/venv/lib/python3.11/site-packages (from aiohttp<4.0.0,>=3.8.3->langchain) (6.0.5)\n",
      "Requirement already satisfied: yarl<2.0,>=1.0 in /Users/bhavishyapandit/VSCProjects/security_for_llms/venv/lib/python3.11/site-packages (from aiohttp<4.0.0,>=3.8.3->langchain) (1.9.4)\n",
      "Requirement already satisfied: marshmallow<4.0.0,>=3.18.0 in /Users/bhavishyapandit/VSCProjects/security_for_llms/venv/lib/python3.11/site-packages (from dataclasses-json<0.7,>=0.5.7->langchain) (3.21.1)\n",
      "Requirement already satisfied: typing-inspect<1,>=0.4.0 in /Users/bhavishyapandit/VSCProjects/security_for_llms/venv/lib/python3.11/site-packages (from dataclasses-json<0.7,>=0.5.7->langchain) (0.9.0)\n",
      "Requirement already satisfied: jsonpointer>=1.9 in /Users/bhavishyapandit/VSCProjects/security_for_llms/venv/lib/python3.11/site-packages (from jsonpatch<2.0,>=1.33->langchain) (2.4)\n",
      "Requirement already satisfied: packaging<24.0,>=23.2 in /Users/bhavishyapandit/VSCProjects/security_for_llms/venv/lib/python3.11/site-packages (from langchain-core<0.2.0,>=0.1.42->langchain) (23.2)\n",
      "Requirement already satisfied: orjson<4.0.0,>=3.9.14 in /Users/bhavishyapandit/VSCProjects/security_for_llms/venv/lib/python3.11/site-packages (from langsmith<0.2.0,>=0.1.17->langchain) (3.10.1)\n",
      "Requirement already satisfied: annotated-types>=0.4.0 in /Users/bhavishyapandit/VSCProjects/security_for_llms/venv/lib/python3.11/site-packages (from pydantic<3,>=1->langchain) (0.6.0)\n",
      "Requirement already satisfied: pydantic-core==2.18.2 in /Users/bhavishyapandit/VSCProjects/security_for_llms/venv/lib/python3.11/site-packages (from pydantic<3,>=1->langchain) (2.18.2)\n",
      "Requirement already satisfied: typing-extensions>=4.6.1 in /Users/bhavishyapandit/VSCProjects/security_for_llms/venv/lib/python3.11/site-packages (from pydantic<3,>=1->langchain) (4.11.0)\n",
      "Requirement already satisfied: charset-normalizer<4,>=2 in /Users/bhavishyapandit/VSCProjects/security_for_llms/venv/lib/python3.11/site-packages (from requests<3,>=2->langchain) (3.3.2)\n",
      "Requirement already satisfied: idna<4,>=2.5 in /Users/bhavishyapandit/VSCProjects/security_for_llms/venv/lib/python3.11/site-packages (from requests<3,>=2->langchain) (3.7)\n",
      "Requirement already satisfied: urllib3<3,>=1.21.1 in /Users/bhavishyapandit/VSCProjects/security_for_llms/venv/lib/python3.11/site-packages (from requests<3,>=2->langchain) (2.2.1)\n",
      "Requirement already satisfied: certifi>=2017.4.17 in /Users/bhavishyapandit/VSCProjects/security_for_llms/venv/lib/python3.11/site-packages (from requests<3,>=2->langchain) (2024.2.2)\n",
      "Requirement already satisfied: mypy-extensions>=0.3.0 in /Users/bhavishyapandit/VSCProjects/security_for_llms/venv/lib/python3.11/site-packages (from typing-inspect<1,>=0.4.0->dataclasses-json<0.7,>=0.5.7->langchain) (1.0.0)\n",
      "\n",
      "\u001b[1m[\u001b[0m\u001b[34;49mnotice\u001b[0m\u001b[1;39;49m]\u001b[0m\u001b[39;49m A new release of pip is available: \u001b[0m\u001b[31;49m23.2.1\u001b[0m\u001b[39;49m -> \u001b[0m\u001b[32;49m24.0\u001b[0m\n",
      "\u001b[1m[\u001b[0m\u001b[34;49mnotice\u001b[0m\u001b[1;39;49m]\u001b[0m\u001b[39;49m To update, run: \u001b[0m\u001b[32;49mpip install --upgrade pip\u001b[0m\n",
      "\n",
      "\u001b[1m[\u001b[0m\u001b[34;49mnotice\u001b[0m\u001b[1;39;49m]\u001b[0m\u001b[39;49m A new release of pip is available: \u001b[0m\u001b[31;49m23.2.1\u001b[0m\u001b[39;49m -> \u001b[0m\u001b[32;49m24.0\u001b[0m\n",
      "\u001b[1m[\u001b[0m\u001b[34;49mnotice\u001b[0m\u001b[1;39;49m]\u001b[0m\u001b[39;49m To update, run: \u001b[0m\u001b[32;49mpip install --upgrade pip\u001b[0m\n",
      "Requirement already satisfied: chromadb in /Users/bhavishyapandit/VSCProjects/security_for_llms/venv/lib/python3.11/site-packages (0.5.0)\n",
      "Requirement already satisfied: build>=1.0.3 in /Users/bhavishyapandit/VSCProjects/security_for_llms/venv/lib/python3.11/site-packages (from chromadb) (1.2.1)\n",
      "Requirement already satisfied: requests>=2.28 in /Users/bhavishyapandit/VSCProjects/security_for_llms/venv/lib/python3.11/site-packages (from chromadb) (2.31.0)\n",
      "Requirement already satisfied: pydantic>=1.9 in /Users/bhavishyapandit/VSCProjects/security_for_llms/venv/lib/python3.11/site-packages (from chromadb) (2.7.1)\n",
      "Requirement already satisfied: chroma-hnswlib==0.7.3 in /Users/bhavishyapandit/VSCProjects/security_for_llms/venv/lib/python3.11/site-packages (from chromadb) (0.7.3)\n",
      "Requirement already satisfied: fastapi>=0.95.2 in /Users/bhavishyapandit/VSCProjects/security_for_llms/venv/lib/python3.11/site-packages (from chromadb) (0.110.2)\n",
      "Requirement already satisfied: uvicorn[standard]>=0.18.3 in /Users/bhavishyapandit/VSCProjects/security_for_llms/venv/lib/python3.11/site-packages (from chromadb) (0.29.0)\n",
      "Requirement already satisfied: numpy>=1.22.5 in /Users/bhavishyapandit/VSCProjects/security_for_llms/venv/lib/python3.11/site-packages (from chromadb) (1.26.4)\n",
      "Requirement already satisfied: posthog>=2.4.0 in /Users/bhavishyapandit/VSCProjects/security_for_llms/venv/lib/python3.11/site-packages (from chromadb) (3.5.0)\n",
      "Requirement already satisfied: typing-extensions>=4.5.0 in /Users/bhavishyapandit/VSCProjects/security_for_llms/venv/lib/python3.11/site-packages (from chromadb) (4.11.0)\n",
      "Requirement already satisfied: onnxruntime>=1.14.1 in /Users/bhavishyapandit/VSCProjects/security_for_llms/venv/lib/python3.11/site-packages (from chromadb) (1.17.3)\n",
      "Requirement already satisfied: opentelemetry-api>=1.2.0 in /Users/bhavishyapandit/VSCProjects/security_for_llms/venv/lib/python3.11/site-packages (from chromadb) (1.24.0)\n",
      "Requirement already satisfied: opentelemetry-exporter-otlp-proto-grpc>=1.2.0 in /Users/bhavishyapandit/VSCProjects/security_for_llms/venv/lib/python3.11/site-packages (from chromadb) (1.24.0)\n",
      "Requirement already satisfied: opentelemetry-instrumentation-fastapi>=0.41b0 in /Users/bhavishyapandit/VSCProjects/security_for_llms/venv/lib/python3.11/site-packages (from chromadb) (0.45b0)\n",
      "Requirement already satisfied: opentelemetry-sdk>=1.2.0 in /Users/bhavishyapandit/VSCProjects/security_for_llms/venv/lib/python3.11/site-packages (from chromadb) (1.24.0)\n",
      "Requirement already satisfied: tokenizers>=0.13.2 in /Users/bhavishyapandit/VSCProjects/security_for_llms/venv/lib/python3.11/site-packages (from chromadb) (0.19.1)\n",
      "Requirement already satisfied: pypika>=0.48.9 in /Users/bhavishyapandit/VSCProjects/security_for_llms/venv/lib/python3.11/site-packages (from chromadb) (0.48.9)\n",
      "Requirement already satisfied: tqdm>=4.65.0 in /Users/bhavishyapandit/VSCProjects/security_for_llms/venv/lib/python3.11/site-packages (from chromadb) (4.66.2)\n",
      "Requirement already satisfied: overrides>=7.3.1 in /Users/bhavishyapandit/VSCProjects/security_for_llms/venv/lib/python3.11/site-packages (from chromadb) (7.7.0)\n",
      "Requirement already satisfied: importlib-resources in /Users/bhavishyapandit/VSCProjects/security_for_llms/venv/lib/python3.11/site-packages (from chromadb) (6.4.0)\n",
      "Requirement already satisfied: grpcio>=1.58.0 in /Users/bhavishyapandit/VSCProjects/security_for_llms/venv/lib/python3.11/site-packages (from chromadb) (1.62.2)\n",
      "Requirement already satisfied: bcrypt>=4.0.1 in /Users/bhavishyapandit/VSCProjects/security_for_llms/venv/lib/python3.11/site-packages (from chromadb) (4.1.2)\n",
      "Requirement already satisfied: typer>=0.9.0 in /Users/bhavishyapandit/VSCProjects/security_for_llms/venv/lib/python3.11/site-packages (from chromadb) (0.12.3)\n",
      "Requirement already satisfied: kubernetes>=28.1.0 in /Users/bhavishyapandit/VSCProjects/security_for_llms/venv/lib/python3.11/site-packages (from chromadb) (29.0.0)\n",
      "Requirement already satisfied: tenacity>=8.2.3 in /Users/bhavishyapandit/VSCProjects/security_for_llms/venv/lib/python3.11/site-packages (from chromadb) (8.2.3)\n",
      "Requirement already satisfied: PyYAML>=6.0.0 in /Users/bhavishyapandit/VSCProjects/security_for_llms/venv/lib/python3.11/site-packages (from chromadb) (6.0.1)\n",
      "Requirement already satisfied: mmh3>=4.0.1 in /Users/bhavishyapandit/VSCProjects/security_for_llms/venv/lib/python3.11/site-packages (from chromadb) (4.1.0)\n",
      "Requirement already satisfied: orjson>=3.9.12 in /Users/bhavishyapandit/VSCProjects/security_for_llms/venv/lib/python3.11/site-packages (from chromadb) (3.10.1)\n",
      "Requirement already satisfied: packaging>=19.1 in /Users/bhavishyapandit/VSCProjects/security_for_llms/venv/lib/python3.11/site-packages (from build>=1.0.3->chromadb) (23.2)\n",
      "Requirement already satisfied: pyproject_hooks in /Users/bhavishyapandit/VSCProjects/security_for_llms/venv/lib/python3.11/site-packages (from build>=1.0.3->chromadb) (1.0.0)\n",
      "Requirement already satisfied: starlette<0.38.0,>=0.37.2 in /Users/bhavishyapandit/VSCProjects/security_for_llms/venv/lib/python3.11/site-packages (from fastapi>=0.95.2->chromadb) (0.37.2)\n",
      "Requirement already satisfied: certifi>=14.05.14 in /Users/bhavishyapandit/VSCProjects/security_for_llms/venv/lib/python3.11/site-packages (from kubernetes>=28.1.0->chromadb) (2024.2.2)\n",
      "Requirement already satisfied: six>=1.9.0 in /Users/bhavishyapandit/VSCProjects/security_for_llms/venv/lib/python3.11/site-packages (from kubernetes>=28.1.0->chromadb) (1.16.0)\n",
      "Requirement already satisfied: python-dateutil>=2.5.3 in /Users/bhavishyapandit/VSCProjects/security_for_llms/venv/lib/python3.11/site-packages (from kubernetes>=28.1.0->chromadb) (2.9.0.post0)\n",
      "Requirement already satisfied: google-auth>=1.0.1 in /Users/bhavishyapandit/VSCProjects/security_for_llms/venv/lib/python3.11/site-packages (from kubernetes>=28.1.0->chromadb) (2.29.0)\n",
      "Requirement already satisfied: websocket-client!=0.40.0,!=0.41.*,!=0.42.*,>=0.32.0 in /Users/bhavishyapandit/VSCProjects/security_for_llms/venv/lib/python3.11/site-packages (from kubernetes>=28.1.0->chromadb) (1.8.0)\n",
      "Requirement already satisfied: requests-oauthlib in /Users/bhavishyapandit/VSCProjects/security_for_llms/venv/lib/python3.11/site-packages (from kubernetes>=28.1.0->chromadb) (2.0.0)\n",
      "Requirement already satisfied: oauthlib>=3.2.2 in /Users/bhavishyapandit/VSCProjects/security_for_llms/venv/lib/python3.11/site-packages (from kubernetes>=28.1.0->chromadb) (3.2.2)\n",
      "Requirement already satisfied: urllib3>=1.24.2 in /Users/bhavishyapandit/VSCProjects/security_for_llms/venv/lib/python3.11/site-packages (from kubernetes>=28.1.0->chromadb) (2.2.1)\n",
      "Requirement already satisfied: coloredlogs in /Users/bhavishyapandit/VSCProjects/security_for_llms/venv/lib/python3.11/site-packages (from onnxruntime>=1.14.1->chromadb) (15.0.1)\n",
      "Requirement already satisfied: flatbuffers in /Users/bhavishyapandit/VSCProjects/security_for_llms/venv/lib/python3.11/site-packages (from onnxruntime>=1.14.1->chromadb) (24.3.25)\n",
      "Requirement already satisfied: protobuf in /Users/bhavishyapandit/VSCProjects/security_for_llms/venv/lib/python3.11/site-packages (from onnxruntime>=1.14.1->chromadb) (4.25.3)\n",
      "Requirement already satisfied: sympy in /Users/bhavishyapandit/VSCProjects/security_for_llms/venv/lib/python3.11/site-packages (from onnxruntime>=1.14.1->chromadb) (1.12)\n",
      "Requirement already satisfied: deprecated>=1.2.6 in /Users/bhavishyapandit/VSCProjects/security_for_llms/venv/lib/python3.11/site-packages (from opentelemetry-api>=1.2.0->chromadb) (1.2.14)\n",
      "Requirement already satisfied: importlib-metadata<=7.0,>=6.0 in /Users/bhavishyapandit/VSCProjects/security_for_llms/venv/lib/python3.11/site-packages (from opentelemetry-api>=1.2.0->chromadb) (7.0.0)\n",
      "Requirement already satisfied: googleapis-common-protos~=1.52 in /Users/bhavishyapandit/VSCProjects/security_for_llms/venv/lib/python3.11/site-packages (from opentelemetry-exporter-otlp-proto-grpc>=1.2.0->chromadb) (1.63.0)\n",
      "Requirement already satisfied: opentelemetry-exporter-otlp-proto-common==1.24.0 in /Users/bhavishyapandit/VSCProjects/security_for_llms/venv/lib/python3.11/site-packages (from opentelemetry-exporter-otlp-proto-grpc>=1.2.0->chromadb) (1.24.0)\n",
      "Requirement already satisfied: opentelemetry-proto==1.24.0 in /Users/bhavishyapandit/VSCProjects/security_for_llms/venv/lib/python3.11/site-packages (from opentelemetry-exporter-otlp-proto-grpc>=1.2.0->chromadb) (1.24.0)\n",
      "Requirement already satisfied: opentelemetry-instrumentation-asgi==0.45b0 in /Users/bhavishyapandit/VSCProjects/security_for_llms/venv/lib/python3.11/site-packages (from opentelemetry-instrumentation-fastapi>=0.41b0->chromadb) (0.45b0)\n",
      "Requirement already satisfied: opentelemetry-instrumentation==0.45b0 in /Users/bhavishyapandit/VSCProjects/security_for_llms/venv/lib/python3.11/site-packages (from opentelemetry-instrumentation-fastapi>=0.41b0->chromadb) (0.45b0)\n",
      "Requirement already satisfied: opentelemetry-semantic-conventions==0.45b0 in /Users/bhavishyapandit/VSCProjects/security_for_llms/venv/lib/python3.11/site-packages (from opentelemetry-instrumentation-fastapi>=0.41b0->chromadb) (0.45b0)\n",
      "Requirement already satisfied: opentelemetry-util-http==0.45b0 in /Users/bhavishyapandit/VSCProjects/security_for_llms/venv/lib/python3.11/site-packages (from opentelemetry-instrumentation-fastapi>=0.41b0->chromadb) (0.45b0)\n",
      "Requirement already satisfied: setuptools>=16.0 in /Users/bhavishyapandit/VSCProjects/security_for_llms/venv/lib/python3.11/site-packages (from opentelemetry-instrumentation==0.45b0->opentelemetry-instrumentation-fastapi>=0.41b0->chromadb) (65.5.0)\n",
      "Requirement already satisfied: wrapt<2.0.0,>=1.0.0 in /Users/bhavishyapandit/VSCProjects/security_for_llms/venv/lib/python3.11/site-packages (from opentelemetry-instrumentation==0.45b0->opentelemetry-instrumentation-fastapi>=0.41b0->chromadb) (1.16.0)\n",
      "Requirement already satisfied: asgiref~=3.0 in /Users/bhavishyapandit/VSCProjects/security_for_llms/venv/lib/python3.11/site-packages (from opentelemetry-instrumentation-asgi==0.45b0->opentelemetry-instrumentation-fastapi>=0.41b0->chromadb) (3.8.1)\n",
      "Requirement already satisfied: monotonic>=1.5 in /Users/bhavishyapandit/VSCProjects/security_for_llms/venv/lib/python3.11/site-packages (from posthog>=2.4.0->chromadb) (1.6)\n",
      "Requirement already satisfied: backoff>=1.10.0 in /Users/bhavishyapandit/VSCProjects/security_for_llms/venv/lib/python3.11/site-packages (from posthog>=2.4.0->chromadb) (2.2.1)\n",
      "Requirement already satisfied: annotated-types>=0.4.0 in /Users/bhavishyapandit/VSCProjects/security_for_llms/venv/lib/python3.11/site-packages (from pydantic>=1.9->chromadb) (0.6.0)\n",
      "Requirement already satisfied: pydantic-core==2.18.2 in /Users/bhavishyapandit/VSCProjects/security_for_llms/venv/lib/python3.11/site-packages (from pydantic>=1.9->chromadb) (2.18.2)\n",
      "Requirement already satisfied: charset-normalizer<4,>=2 in /Users/bhavishyapandit/VSCProjects/security_for_llms/venv/lib/python3.11/site-packages (from requests>=2.28->chromadb) (3.3.2)\n",
      "Requirement already satisfied: idna<4,>=2.5 in /Users/bhavishyapandit/VSCProjects/security_for_llms/venv/lib/python3.11/site-packages (from requests>=2.28->chromadb) (3.7)\n",
      "Requirement already satisfied: huggingface-hub<1.0,>=0.16.4 in /Users/bhavishyapandit/VSCProjects/security_for_llms/venv/lib/python3.11/site-packages (from tokenizers>=0.13.2->chromadb) (0.22.2)\n",
      "Requirement already satisfied: click>=8.0.0 in /Users/bhavishyapandit/VSCProjects/security_for_llms/venv/lib/python3.11/site-packages (from typer>=0.9.0->chromadb) (8.1.7)\n",
      "Requirement already satisfied: shellingham>=1.3.0 in /Users/bhavishyapandit/VSCProjects/security_for_llms/venv/lib/python3.11/site-packages (from typer>=0.9.0->chromadb) (1.5.4)\n",
      "Requirement already satisfied: rich>=10.11.0 in /Users/bhavishyapandit/VSCProjects/security_for_llms/venv/lib/python3.11/site-packages (from typer>=0.9.0->chromadb) (13.7.1)\n",
      "Requirement already satisfied: h11>=0.8 in /Users/bhavishyapandit/VSCProjects/security_for_llms/venv/lib/python3.11/site-packages (from uvicorn[standard]>=0.18.3->chromadb) (0.14.0)\n",
      "Requirement already satisfied: httptools>=0.5.0 in /Users/bhavishyapandit/VSCProjects/security_for_llms/venv/lib/python3.11/site-packages (from uvicorn[standard]>=0.18.3->chromadb) (0.6.1)\n",
      "Requirement already satisfied: python-dotenv>=0.13 in /Users/bhavishyapandit/VSCProjects/security_for_llms/venv/lib/python3.11/site-packages (from uvicorn[standard]>=0.18.3->chromadb) (1.0.1)\n",
      "Requirement already satisfied: uvloop!=0.15.0,!=0.15.1,>=0.14.0 in /Users/bhavishyapandit/VSCProjects/security_for_llms/venv/lib/python3.11/site-packages (from uvicorn[standard]>=0.18.3->chromadb) (0.19.0)\n",
      "Requirement already satisfied: watchfiles>=0.13 in /Users/bhavishyapandit/VSCProjects/security_for_llms/venv/lib/python3.11/site-packages (from uvicorn[standard]>=0.18.3->chromadb) (0.21.0)\n",
      "Requirement already satisfied: websockets>=10.4 in /Users/bhavishyapandit/VSCProjects/security_for_llms/venv/lib/python3.11/site-packages (from uvicorn[standard]>=0.18.3->chromadb) (12.0)\n",
      "Requirement already satisfied: cachetools<6.0,>=2.0.0 in /Users/bhavishyapandit/VSCProjects/security_for_llms/venv/lib/python3.11/site-packages (from google-auth>=1.0.1->kubernetes>=28.1.0->chromadb) (5.3.3)\n",
      "Requirement already satisfied: pyasn1-modules>=0.2.1 in /Users/bhavishyapandit/VSCProjects/security_for_llms/venv/lib/python3.11/site-packages (from google-auth>=1.0.1->kubernetes>=28.1.0->chromadb) (0.4.0)\n",
      "Requirement already satisfied: rsa<5,>=3.1.4 in /Users/bhavishyapandit/VSCProjects/security_for_llms/venv/lib/python3.11/site-packages (from google-auth>=1.0.1->kubernetes>=28.1.0->chromadb) (4.9)\n",
      "Requirement already satisfied: filelock in /Users/bhavishyapandit/VSCProjects/security_for_llms/venv/lib/python3.11/site-packages (from huggingface-hub<1.0,>=0.16.4->tokenizers>=0.13.2->chromadb) (3.13.4)\n",
      "Requirement already satisfied: fsspec>=2023.5.0 in /Users/bhavishyapandit/VSCProjects/security_for_llms/venv/lib/python3.11/site-packages (from huggingface-hub<1.0,>=0.16.4->tokenizers>=0.13.2->chromadb) (2024.3.1)\n",
      "Requirement already satisfied: zipp>=0.5 in /Users/bhavishyapandit/VSCProjects/security_for_llms/venv/lib/python3.11/site-packages (from importlib-metadata<=7.0,>=6.0->opentelemetry-api>=1.2.0->chromadb) (3.18.1)\n",
      "Requirement already satisfied: markdown-it-py>=2.2.0 in /Users/bhavishyapandit/VSCProjects/security_for_llms/venv/lib/python3.11/site-packages (from rich>=10.11.0->typer>=0.9.0->chromadb) (3.0.0)\n",
      "Requirement already satisfied: pygments<3.0.0,>=2.13.0 in /Users/bhavishyapandit/VSCProjects/security_for_llms/venv/lib/python3.11/site-packages (from rich>=10.11.0->typer>=0.9.0->chromadb) (2.17.2)\n",
      "Requirement already satisfied: anyio<5,>=3.4.0 in /Users/bhavishyapandit/VSCProjects/security_for_llms/venv/lib/python3.11/site-packages (from starlette<0.38.0,>=0.37.2->fastapi>=0.95.2->chromadb) (4.3.0)\n",
      "Requirement already satisfied: humanfriendly>=9.1 in /Users/bhavishyapandit/VSCProjects/security_for_llms/venv/lib/python3.11/site-packages (from coloredlogs->onnxruntime>=1.14.1->chromadb) (10.0)\n",
      "Requirement already satisfied: mpmath>=0.19 in /Users/bhavishyapandit/VSCProjects/security_for_llms/venv/lib/python3.11/site-packages (from sympy->onnxruntime>=1.14.1->chromadb) (1.3.0)\n",
      "Requirement already satisfied: sniffio>=1.1 in /Users/bhavishyapandit/VSCProjects/security_for_llms/venv/lib/python3.11/site-packages (from anyio<5,>=3.4.0->starlette<0.38.0,>=0.37.2->fastapi>=0.95.2->chromadb) (1.3.1)\n",
      "Requirement already satisfied: mdurl~=0.1 in /Users/bhavishyapandit/VSCProjects/security_for_llms/venv/lib/python3.11/site-packages (from markdown-it-py>=2.2.0->rich>=10.11.0->typer>=0.9.0->chromadb) (0.1.2)\n",
      "Requirement already satisfied: pyasn1<0.7.0,>=0.4.6 in /Users/bhavishyapandit/VSCProjects/security_for_llms/venv/lib/python3.11/site-packages (from pyasn1-modules>=0.2.1->google-auth>=1.0.1->kubernetes>=28.1.0->chromadb) (0.6.0)\n",
      "\n",
      "\u001b[1m[\u001b[0m\u001b[34;49mnotice\u001b[0m\u001b[1;39;49m]\u001b[0m\u001b[39;49m A new release of pip is available: \u001b[0m\u001b[31;49m23.2.1\u001b[0m\u001b[39;49m -> \u001b[0m\u001b[32;49m24.0\u001b[0m\n",
      "\u001b[1m[\u001b[0m\u001b[34;49mnotice\u001b[0m\u001b[1;39;49m]\u001b[0m\u001b[39;49m To update, run: \u001b[0m\u001b[32;49mpip install --upgrade pip\u001b[0m\n",
      "Requirement already satisfied: PyPDF2 in /Users/bhavishyapandit/VSCProjects/security_for_llms/venv/lib/python3.11/site-packages (3.0.1)\n",
      "\n",
      "\u001b[1m[\u001b[0m\u001b[34;49mnotice\u001b[0m\u001b[1;39;49m]\u001b[0m\u001b[39;49m A new release of pip is available: \u001b[0m\u001b[31;49m23.2.1\u001b[0m\u001b[39;49m -> \u001b[0m\u001b[32;49m24.0\u001b[0m\n",
      "\u001b[1m[\u001b[0m\u001b[34;49mnotice\u001b[0m\u001b[1;39;49m]\u001b[0m\u001b[39;49m To update, run: \u001b[0m\u001b[32;49mpip install --upgrade pip\u001b[0m\n",
      "Requirement already satisfied: pypdf in /Users/bhavishyapandit/VSCProjects/security_for_llms/venv/lib/python3.11/site-packages (4.2.0)\n",
      "\n",
      "\u001b[1m[\u001b[0m\u001b[34;49mnotice\u001b[0m\u001b[1;39;49m]\u001b[0m\u001b[39;49m A new release of pip is available: \u001b[0m\u001b[31;49m23.2.1\u001b[0m\u001b[39;49m -> \u001b[0m\u001b[32;49m24.0\u001b[0m\n",
      "\u001b[1m[\u001b[0m\u001b[34;49mnotice\u001b[0m\u001b[1;39;49m]\u001b[0m\u001b[39;49m To update, run: \u001b[0m\u001b[32;49mpip install --upgrade pip\u001b[0m\n",
      "Requirement already satisfied: rapidocr-onnxruntime in /Users/bhavishyapandit/VSCProjects/security_for_llms/venv/lib/python3.11/site-packages (1.3.17)\n",
      "Requirement already satisfied: pyclipper>=1.2.0 in /Users/bhavishyapandit/VSCProjects/security_for_llms/venv/lib/python3.11/site-packages (from rapidocr-onnxruntime) (1.3.0.post5)\n",
      "Requirement already satisfied: onnxruntime>=1.7.0 in /Users/bhavishyapandit/VSCProjects/security_for_llms/venv/lib/python3.11/site-packages (from rapidocr-onnxruntime) (1.17.3)\n",
      "Requirement already satisfied: opencv-python>=4.5.1.48 in /Users/bhavishyapandit/VSCProjects/security_for_llms/venv/lib/python3.11/site-packages (from rapidocr-onnxruntime) (4.9.0.80)\n",
      "Requirement already satisfied: numpy>=1.19.5 in /Users/bhavishyapandit/VSCProjects/security_for_llms/venv/lib/python3.11/site-packages (from rapidocr-onnxruntime) (1.26.4)\n",
      "Requirement already satisfied: six>=1.15.0 in /Users/bhavishyapandit/VSCProjects/security_for_llms/venv/lib/python3.11/site-packages (from rapidocr-onnxruntime) (1.16.0)\n",
      "Requirement already satisfied: Shapely>=1.7.1 in /Users/bhavishyapandit/VSCProjects/security_for_llms/venv/lib/python3.11/site-packages (from rapidocr-onnxruntime) (2.0.4)\n",
      "Requirement already satisfied: PyYAML in /Users/bhavishyapandit/VSCProjects/security_for_llms/venv/lib/python3.11/site-packages (from rapidocr-onnxruntime) (6.0.1)\n",
      "Requirement already satisfied: Pillow in /Users/bhavishyapandit/VSCProjects/security_for_llms/venv/lib/python3.11/site-packages (from rapidocr-onnxruntime) (10.3.0)\n",
      "Requirement already satisfied: coloredlogs in /Users/bhavishyapandit/VSCProjects/security_for_llms/venv/lib/python3.11/site-packages (from onnxruntime>=1.7.0->rapidocr-onnxruntime) (15.0.1)\n",
      "Requirement already satisfied: flatbuffers in /Users/bhavishyapandit/VSCProjects/security_for_llms/venv/lib/python3.11/site-packages (from onnxruntime>=1.7.0->rapidocr-onnxruntime) (24.3.25)\n",
      "Requirement already satisfied: packaging in /Users/bhavishyapandit/VSCProjects/security_for_llms/venv/lib/python3.11/site-packages (from onnxruntime>=1.7.0->rapidocr-onnxruntime) (23.2)\n",
      "Requirement already satisfied: protobuf in /Users/bhavishyapandit/VSCProjects/security_for_llms/venv/lib/python3.11/site-packages (from onnxruntime>=1.7.0->rapidocr-onnxruntime) (4.25.3)\n",
      "Requirement already satisfied: sympy in /Users/bhavishyapandit/VSCProjects/security_for_llms/venv/lib/python3.11/site-packages (from onnxruntime>=1.7.0->rapidocr-onnxruntime) (1.12)\n",
      "Requirement already satisfied: humanfriendly>=9.1 in /Users/bhavishyapandit/VSCProjects/security_for_llms/venv/lib/python3.11/site-packages (from coloredlogs->onnxruntime>=1.7.0->rapidocr-onnxruntime) (10.0)\n",
      "Requirement already satisfied: mpmath>=0.19 in /Users/bhavishyapandit/VSCProjects/security_for_llms/venv/lib/python3.11/site-packages (from sympy->onnxruntime>=1.7.0->rapidocr-onnxruntime) (1.3.0)\n",
      "\n",
      "\u001b[1m[\u001b[0m\u001b[34;49mnotice\u001b[0m\u001b[1;39;49m]\u001b[0m\u001b[39;49m A new release of pip is available: \u001b[0m\u001b[31;49m23.2.1\u001b[0m\u001b[39;49m -> \u001b[0m\u001b[32;49m24.0\u001b[0m\n",
      "\u001b[1m[\u001b[0m\u001b[34;49mnotice\u001b[0m\u001b[1;39;49m]\u001b[0m\u001b[39;49m To update, run: \u001b[0m\u001b[32;49mpip install --upgrade pip\u001b[0m\n",
      "Requirement already satisfied: faiss-cpu in /Users/bhavishyapandit/VSCProjects/security_for_llms/venv/lib/python3.11/site-packages (1.8.0)\n",
      "Requirement already satisfied: numpy in /Users/bhavishyapandit/VSCProjects/security_for_llms/venv/lib/python3.11/site-packages (from faiss-cpu) (1.26.4)\n",
      "\n",
      "\u001b[1m[\u001b[0m\u001b[34;49mnotice\u001b[0m\u001b[1;39;49m]\u001b[0m\u001b[39;49m A new release of pip is available: \u001b[0m\u001b[31;49m23.2.1\u001b[0m\u001b[39;49m -> \u001b[0m\u001b[32;49m24.0\u001b[0m\n",
      "\u001b[1m[\u001b[0m\u001b[34;49mnotice\u001b[0m\u001b[1;39;49m]\u001b[0m\u001b[39;49m To update, run: \u001b[0m\u001b[32;49mpip install --upgrade pip\u001b[0m\n"
     ]
    }
   ],
   "source": [
    "# Installations\n",
    "# python -m venv venv - for creating virutal env\n",
    "!pip install langchain-google-genai\n",
    "!pip install langchain\n",
    "!pip install -q -U google-generativeai\n",
    "!pip install chromadb\n",
    "!pip install PyPDF2\n",
    "!pip install pypdf\n",
    "!pip install rapidocr-onnxruntime\n",
    "!pip install faiss-cpu"
   ]
  },
  {
   "cell_type": "markdown",
   "metadata": {},
   "source": [
    "### Link to [Gemini Python Documentation](https://ai.google.dev/gemini-api/docs/get-started/python)"
   ]
  },
  {
   "cell_type": "code",
   "execution_count": 2,
   "metadata": {},
   "outputs": [
    {
     "name": "stderr",
     "output_type": "stream",
     "text": [
      "/Users/bhavishyapandit/VSCProjects/security_for_llms/venv/lib/python3.11/site-packages/tqdm/auto.py:21: TqdmWarning: IProgress not found. Please update jupyter and ipywidgets. See https://ipywidgets.readthedocs.io/en/stable/user_install.html\n",
      "  from .autonotebook import tqdm as notebook_tqdm\n"
     ]
    },
    {
     "data": {
      "text/plain": [
       "'output values. These are concatenated and once again projected, resulting in the final values, as\\ndepicted in Figure 2.\\nMulti-head attention allows the model to jointly attend to information from different representation\\nsubspaces at different positions. With a single attention head, averaging inhibits this.\\nMultiHead( Q, K, V ) = Concat(head 1, ...,head h)WO\\nwhere head i= Attention( QWQ\\ni, KWK\\ni, V WV\\ni)\\nWhere the projections are parameter matrices WQ\\ni∈Rdmodel×dk,WK\\ni∈Rdmodel×dk,WV\\ni∈Rdmodel×dv\\nandWO∈Rhdv×dmodel.\\nIn this work we employ h= 8 parallel attention layers, or heads. For each of these we use\\ndk=dv=dmodel/h= 64 . Due to the reduced dimension of each head, the total computational cost\\nis similar to that of single-head attention with full dimensionality.\\n3.2.3 Applications of Attention in our Model\\nThe Transformer uses multi-head attention in three different ways:\\n•In \"encoder-decoder attention\" layers, the queries come from the previous decoder layer,\\nand the memory keys and values come from the output of the encoder. This allows every\\nposition in the decoder to attend over all positions in the input sequence. This mimics the\\ntypical encoder-decoder attention mechanisms in sequence-to-sequence models such as\\n[38, 2, 9].\\n•The encoder contains self-attention layers. In a self-attention layer all of the keys, values\\nand queries come from the same place, in this case, the output of the previous layer in the\\nencoder. Each position in the encoder can attend to all positions in the previous layer of the\\nencoder.\\n•Similarly, self-attention layers in the decoder allow each position in the decoder to attend to\\nall positions in the decoder up to and including that position. We need to prevent leftward\\ninformation flow in the decoder to preserve the auto-regressive property. We implement this\\ninside of scaled dot-product attention by masking out (setting to −∞) all values in the input\\nof the softmax which correspond to illegal connections. See Figure 2.\\n3.3 Position-wise Feed-Forward Networks\\nIn addition to attention sub-layers, each of the layers in our encoder and decoder contains a fully\\nconnected feed-forward network, which is applied to each position separately and identically. This\\nconsists of two linear transformations with a ReLU activation in between.\\nFFN( x) = max(0 , xW 1+b1)W2+b2 (2)\\nWhile the linear transformations are the same across different positions, they use different parameters\\nfrom layer to layer. Another way of describing this is as two convolutions with kernel size 1.\\nThe dimensionality of input and output is dmodel = 512 , and the inner-layer has dimensionality\\ndff= 2048 .\\n3.4 Embeddings and Softmax\\nSimilarly to other sequence transduction models, we use learned embeddings to convert the input\\ntokens and output tokens to vectors of dimension dmodel. We also use the usual learned linear transfor-\\nmation and softmax function to convert the decoder output to predicted next-token probabilities. In\\nour model, we share the same weight matrix between the two embedding layers and the pre-softmax\\nlinear transformation, similar to [ 30]. In the embedding layers, we multiply those weights by√dmodel.\\n5'"
      ]
     },
     "execution_count": 2,
     "metadata": {},
     "output_type": "execute_result"
    }
   ],
   "source": [
    "# Dependencies \n",
    "from langchain_google_genai import ChatGoogleGenerativeAI\n",
    "import json\n",
    "from langchain_google_genai import GoogleGenerativeAIEmbeddings\n",
    "from langchain_community.document_loaders import PyPDFLoader\n",
    "from langchain_text_splitters import RecursiveCharacterTextSplitter\n",
    "\n",
    "# Fetching credentials to hit Gemini API\n",
    "credentials = open('/Users/bhavishyapandit/VSCProjects/security_for_llms/creds.json')\n",
    "creds = json.load(credentials)\n",
    "\n",
    "# Document\n",
    "file = '/Users/bhavishyapandit/VSCProjects/security_for_llms/data/attention_is_all_you_need.pdf'\n",
    "model = ChatGoogleGenerativeAI(model=\"gemini-pro\",\n",
    "                             temperature=0, google_api_key=creds['google'],\n",
    "                             )\n",
    "\n",
    "# Loading pdf file\n",
    "loader = PyPDFLoader(file, extract_images=True)\n",
    "data = loader.load_and_split()\n",
    "data[5].page_content"
   ]
  },
  {
   "cell_type": "code",
   "execution_count": 3,
   "metadata": {},
   "outputs": [
    {
     "data": {
      "text/plain": [
       "117"
      ]
     },
     "execution_count": 3,
     "metadata": {},
     "output_type": "execute_result"
    }
   ],
   "source": [
    "text_splitter = RecursiveCharacterTextSplitter(chunk_size=400, chunk_overlap=0)\n",
    "text_chunks = text_splitter.split_documents(data)\n",
    "len(text_chunks)"
   ]
  },
  {
   "cell_type": "code",
   "execution_count": 4,
   "metadata": {},
   "outputs": [
    {
     "name": "stderr",
     "output_type": "stream",
     "text": [
      "/Users/bhavishyapandit/VSCProjects/security_for_llms/venv/lib/python3.11/site-packages/langchain_core/_api/deprecation.py:119: LangChainDeprecationWarning: The method `BaseRetriever.get_relevant_documents` was deprecated in langchain-core 0.1.46 and will be removed in 0.3.0. Use invoke instead.\n",
      "  warn_deprecated(\n"
     ]
    },
    {
     "name": "stdout",
     "output_type": "stream",
     "text": [
      "Most competitive neural sequence transduction models have an encoder-decoder structure [ 5,2,35].\n",
      "Here, the encoder maps an input sequence of symbol representations (x1, ..., x n)to a sequence\n",
      "of continuous representations z= (z1, ..., z n). Given z, the decoder then generates an output\n",
      "sequence (y1, ..., y m)of symbols one element at a time. At each step the model is auto-regressiveMost competitive neural sequence transduction models have an encoder-decoder structure [ 5,2,35].\n",
      "Here, the encoder maps an input sequence of symbol representations (x1, ..., x n)to a sequenceGoogle Research\n",
      "llion@google.comAidan N. Gomez∗ †\n",
      "University of Toronto\n",
      "aidan@cs.toronto.eduŁukasz Kaiser∗\n",
      "Google Brain\n",
      "lukaszkaiser@google.com\n",
      "Illia Polosukhin∗ ‡\n",
      "illia.polosukhin@gmail.com\n",
      "Abstract\n",
      "The dominant sequence transduction models are based on complex recurrent or\n",
      "convolutional neural networks that include an encoder and a decoder. The bestSimilarly to other sequence transduction models, we use learned embeddings to convert the input\n",
      "tokens and output tokens to vectors of dimension dmodel. We also use the usual learned linear transfor-\n",
      "mation and softmax function to convert the decoder output to predicted next-token probabilities. In\n",
      "our model, we share the same weight matrix between the two embedding layers and the pre-softmax\n"
     ]
    }
   ],
   "source": [
    "from langchain_community.vectorstores import Chroma, FAISS\n",
    "\n",
    "embeddings = GoogleGenerativeAIEmbeddings(model=\"models/embedding-001\", google_api_key=creds['google'])\n",
    "vector_index = Chroma.from_documents(text_chunks, embeddings).as_retriever()\n",
    "\n",
    "question = 'What are dominant sequence transduction models based of?'\n",
    "docs = vector_index.get_relevant_documents(question)\n",
    "\n",
    "result =''\n",
    "for doc in docs:\n",
    "    result += doc.page_content\n",
    "print(result)"
   ]
  },
  {
   "cell_type": "code",
   "execution_count": 5,
   "metadata": {},
   "outputs": [
    {
     "data": {
      "text/plain": [
       "'Most competitive neural sequence transduction models have an encoder-decoder structure [ 5,2,35].\\nHere, the encoder maps an input sequence of symbol representations (x1, ..., x n)to a sequence\\nof continuous representations z= (z1, ..., z n). Given z, the decoder then generates an output\\nsequence (y1, ..., y m)of symbols one element at a time. At each step the model is auto-regressive'"
      ]
     },
     "execution_count": 5,
     "metadata": {},
     "output_type": "execute_result"
    }
   ],
   "source": [
    "prompt = f'''Question: {question}\n",
    "Response: {result}\n",
    "'''\n",
    "response = model.invoke('Tell about the following without adding any information by yourself:'+prompt)\n",
    "response.content"
   ]
  },
  {
   "cell_type": "code",
   "execution_count": null,
   "metadata": {},
   "outputs": [],
   "source": []
  }
 ],
 "metadata": {
  "kernelspec": {
   "display_name": "venv",
   "language": "python",
   "name": "python3"
  },
  "language_info": {
   "codemirror_mode": {
    "name": "ipython",
    "version": 3
   },
   "file_extension": ".py",
   "mimetype": "text/x-python",
   "name": "python",
   "nbconvert_exporter": "python",
   "pygments_lexer": "ipython3",
   "version": "3.11.5"
  }
 },
 "nbformat": 4,
 "nbformat_minor": 2
}
