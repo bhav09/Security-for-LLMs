{
 "cells": [
  {
   "cell_type": "code",
   "execution_count": 1,
   "metadata": {},
   "outputs": [
    {
     "name": "stderr",
     "output_type": "stream",
     "text": [
      "/Users/bhavishyapandit/VSCProjects/security_for_llms/venv/lib/python3.11/site-packages/tqdm/auto.py:21: TqdmWarning: IProgress not found. Please update jupyter and ipywidgets. See https://ipywidgets.readthedocs.io/en/stable/user_install.html\n",
      "  from .autonotebook import tqdm as notebook_tqdm\n"
     ]
    }
   ],
   "source": [
    "import google.generativeai as genai\n",
    "import json\n",
    "import os\n",
    "import pandas as pd\n",
    "import re"
   ]
  },
  {
   "cell_type": "code",
   "execution_count": 2,
   "metadata": {},
   "outputs": [],
   "source": [
    "# Loading credentials\n",
    "path = '/Users/bhavishyapandit/VSCProjects/security_for_llms/creds.json'\n",
    "f = open(path, 'r')\n",
    "creds = json.load(f)\n",
    "gemini_token = creds['google']"
   ]
  },
  {
   "cell_type": "code",
   "execution_count": 3,
   "metadata": {},
   "outputs": [],
   "source": [
    "def generate_response(prompt, temperature, safety_setting):\n",
    "    generation_config = {\n",
    "      \"temperature\": temperature,\n",
    "      \"top_p\": 1,\n",
    "      \"top_k\": 1,\n",
    "    }\n",
    "    safety_settings = [\n",
    "        {\n",
    "        \"category\": \"HARM_CATEGORY_HARASSMENT\",\n",
    "        \"threshold\": safety_setting\n",
    "        },\n",
    "        {\n",
    "        \"category\": \"HARM_CATEGORY_HATE_SPEECH\",\n",
    "        \"threshold\": safety_setting\n",
    "        },\n",
    "        {\n",
    "        \"category\": \"HARM_CATEGORY_SEXUALLY_EXPLICIT\",\n",
    "        \"threshold\": safety_setting\n",
    "        },\n",
    "        {\n",
    "        \"category\": \"HARM_CATEGORY_DANGEROUS_CONTENT\",\n",
    "        \"threshold\": safety_setting\n",
    "        },\n",
    "    ]\n",
    "    genai.configure(api_key=gemini_token)\n",
    "    model = genai.GenerativeModel(model_name=\"gemini-1.0-pro\",\n",
    "                                    generation_config=generation_config,\n",
    "                                    safety_settings=safety_settings)\n",
    "    convo = model.start_chat(history=[])\n",
    "    convo.send_message(prompt)\n",
    "    return re.sub(r\"\\*\\*([^*]+)\\*\\*\", r\"\\1\", convo.last.text)"
   ]
  },
  {
   "cell_type": "code",
   "execution_count": 4,
   "metadata": {},
   "outputs": [
    {
     "data": {
      "text/html": [
       "<div>\n",
       "<style scoped>\n",
       "    .dataframe tbody tr th:only-of-type {\n",
       "        vertical-align: middle;\n",
       "    }\n",
       "\n",
       "    .dataframe tbody tr th {\n",
       "        vertical-align: top;\n",
       "    }\n",
       "\n",
       "    .dataframe thead th {\n",
       "        text-align: right;\n",
       "    }\n",
       "</style>\n",
       "<table border=\"1\" class=\"dataframe\">\n",
       "  <thead>\n",
       "    <tr style=\"text-align: right;\">\n",
       "      <th></th>\n",
       "      <th>mpg</th>\n",
       "      <th>cylinders</th>\n",
       "      <th>displacement</th>\n",
       "      <th>horsepower</th>\n",
       "      <th>weight</th>\n",
       "      <th>acceleration</th>\n",
       "      <th>model year</th>\n",
       "      <th>origin</th>\n",
       "      <th>car name</th>\n",
       "      <th>company name</th>\n",
       "    </tr>\n",
       "  </thead>\n",
       "  <tbody>\n",
       "    <tr>\n",
       "      <th>0</th>\n",
       "      <td>18.0</td>\n",
       "      <td>8</td>\n",
       "      <td>307.0</td>\n",
       "      <td>130</td>\n",
       "      <td>3504</td>\n",
       "      <td>12.0</td>\n",
       "      <td>70</td>\n",
       "      <td>1</td>\n",
       "      <td>chevrolet chevelle malibu</td>\n",
       "      <td>chevrolet</td>\n",
       "    </tr>\n",
       "    <tr>\n",
       "      <th>1</th>\n",
       "      <td>15.0</td>\n",
       "      <td>8</td>\n",
       "      <td>350.0</td>\n",
       "      <td>165</td>\n",
       "      <td>3693</td>\n",
       "      <td>11.5</td>\n",
       "      <td>70</td>\n",
       "      <td>1</td>\n",
       "      <td>buick skylark 320</td>\n",
       "      <td>buick</td>\n",
       "    </tr>\n",
       "    <tr>\n",
       "      <th>2</th>\n",
       "      <td>18.0</td>\n",
       "      <td>8</td>\n",
       "      <td>318.0</td>\n",
       "      <td>150</td>\n",
       "      <td>3436</td>\n",
       "      <td>11.0</td>\n",
       "      <td>70</td>\n",
       "      <td>1</td>\n",
       "      <td>plymouth satellite</td>\n",
       "      <td>plymouth</td>\n",
       "    </tr>\n",
       "    <tr>\n",
       "      <th>3</th>\n",
       "      <td>16.0</td>\n",
       "      <td>8</td>\n",
       "      <td>304.0</td>\n",
       "      <td>150</td>\n",
       "      <td>3433</td>\n",
       "      <td>12.0</td>\n",
       "      <td>70</td>\n",
       "      <td>1</td>\n",
       "      <td>amc rebel sst</td>\n",
       "      <td>amc</td>\n",
       "    </tr>\n",
       "    <tr>\n",
       "      <th>4</th>\n",
       "      <td>17.0</td>\n",
       "      <td>8</td>\n",
       "      <td>302.0</td>\n",
       "      <td>140</td>\n",
       "      <td>3449</td>\n",
       "      <td>10.5</td>\n",
       "      <td>70</td>\n",
       "      <td>1</td>\n",
       "      <td>ford torino</td>\n",
       "      <td>ford</td>\n",
       "    </tr>\n",
       "  </tbody>\n",
       "</table>\n",
       "</div>"
      ],
      "text/plain": [
       "    mpg  cylinders  displacement horsepower  weight  acceleration  model year  \\\n",
       "0  18.0          8         307.0        130    3504          12.0          70   \n",
       "1  15.0          8         350.0        165    3693          11.5          70   \n",
       "2  18.0          8         318.0        150    3436          11.0          70   \n",
       "3  16.0          8         304.0        150    3433          12.0          70   \n",
       "4  17.0          8         302.0        140    3449          10.5          70   \n",
       "\n",
       "   origin                   car name company name  \n",
       "0       1  chevrolet chevelle malibu    chevrolet  \n",
       "1       1          buick skylark 320        buick  \n",
       "2       1         plymouth satellite     plymouth  \n",
       "3       1              amc rebel sst          amc  \n",
       "4       1                ford torino         ford  "
      ]
     },
     "execution_count": 4,
     "metadata": {},
     "output_type": "execute_result"
    }
   ],
   "source": [
    "# Let's read our data\n",
    "df = pd.read_csv('/Users/bhavishyapandit/VSCProjects/security_for_llms/data/auto-mpg.csv')\n",
    "df.head()"
   ]
  },
  {
   "cell_type": "code",
   "execution_count": 5,
   "metadata": {},
   "outputs": [],
   "source": [
    "code_gen_template = f'''\n",
    "Follow the instructions given below all costs-\n",
    "\n",
    "Instructions:\n",
    "1. Assume the dataframe \"df\" already exists - don't read the data from any source\n",
    "2. Write the code to perform the analysis mentioned below\n",
    "3. Generate only the code; don't include any other text\n",
    "4. Don't include the language name python in your response\n",
    "5. Print the output of the code generated\n",
    "6. Don't include any other text, footer or header\n",
    "\n",
    "About data:\n",
    "1. Dataframe: {df.head()}\n",
    "2. Columns: {df.columns}\n",
    "3. Description: {df.describe()}\n",
    "\n",
    "Analysis:\n",
    "'''"
   ]
  },
  {
   "cell_type": "markdown",
   "metadata": {},
   "source": [
    "### Question 1"
   ]
  },
  {
   "cell_type": "code",
   "execution_count": 6,
   "metadata": {},
   "outputs": [
    {
     "name": "stdout",
     "output_type": "stream",
     "text": [
      "\n",
      "print(df[(df['car name'] == 'ford torino') & (df['model year'] == 70)]['acceleration'])\n",
      "\n",
      "4    10.5\n",
      "Name: acceleration, dtype: float64\n"
     ]
    }
   ],
   "source": [
    "analysis = 'What is the acceleration of ford torino of model year 70'\n",
    "prompt1 = code_gen_template+analysis\n",
    "response = generate_response(prompt1, 0, 'BLOCK_MEDIUM_AND_ABOVE')\n",
    "response = response.replace('`', '')\n",
    "response = response.replace('python', '')\n",
    "print(response)\n",
    "exec(response)"
   ]
  },
  {
   "cell_type": "code",
   "execution_count": 7,
   "metadata": {},
   "outputs": [
    {
     "data": {
      "text/plain": [
       "4    10.5\n",
       "Name: acceleration, dtype: float64"
      ]
     },
     "execution_count": 7,
     "metadata": {},
     "output_type": "execute_result"
    }
   ],
   "source": [
    "# Verifying output\n",
    "df[(df['car name'] == 'ford torino') & (df['model year']==70)].acceleration"
   ]
  },
  {
   "cell_type": "code",
   "execution_count": 8,
   "metadata": {},
   "outputs": [
    {
     "name": "stdout",
     "output_type": "stream",
     "text": [
      "\n",
      "print(df[df['displacement'] == df['displacement'].max()])\n",
      "\n",
      "     mpg  cylinders  displacement horsepower  weight  acceleration  \\\n",
      "8   14.0          8         455.0        225    4425          10.0   \n",
      "13  14.0          8         455.0        225    3086          10.0   \n",
      "95  12.0          8         455.0        225    4951          11.0   \n",
      "\n",
      "    model year  origin                  car name company name  \n",
      "8           70       1          pontiac catalina      pontiac  \n",
      "13          70       1   buick estate wagon (sw)        buick  \n",
      "95          73       1  buick electra 225 custom        buick  \n"
     ]
    }
   ],
   "source": [
    "analysis = 'Which car has the highest displacement?'\n",
    "prompt1 = code_gen_template+analysis\n",
    "response = generate_response(prompt1, 0, 'BLOCK_NONE')\n",
    "response = response.replace('`', '')\n",
    "response = response.replace('python', '')\n",
    "print(response)\n",
    "exec(response)"
   ]
  },
  {
   "cell_type": "code",
   "execution_count": 9,
   "metadata": {},
   "outputs": [
    {
     "data": {
      "text/plain": [
       "8             pontiac catalina\n",
       "13     buick estate wagon (sw)\n",
       "95    buick electra 225 custom\n",
       "Name: car name, dtype: object"
      ]
     },
     "execution_count": 9,
     "metadata": {},
     "output_type": "execute_result"
    }
   ],
   "source": [
    "# Verifying output\n",
    "df[df['displacement'] == df.displacement.max()]['car name']"
   ]
  },
  {
   "cell_type": "code",
   "execution_count": null,
   "metadata": {},
   "outputs": [],
   "source": []
  }
 ],
 "metadata": {
  "kernelspec": {
   "display_name": "venv",
   "language": "python",
   "name": "python3"
  },
  "language_info": {
   "codemirror_mode": {
    "name": "ipython",
    "version": 3
   },
   "file_extension": ".py",
   "mimetype": "text/x-python",
   "name": "python",
   "nbconvert_exporter": "python",
   "pygments_lexer": "ipython3",
   "version": "3.11.5"
  }
 },
 "nbformat": 4,
 "nbformat_minor": 2
}
